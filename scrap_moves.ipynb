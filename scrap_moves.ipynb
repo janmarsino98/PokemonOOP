{
 "cells": [
  {
   "cell_type": "markdown",
   "metadata": {},
   "source": [
    "f"
   ]
  },
  {
   "cell_type": "code",
   "execution_count": 1,
   "metadata": {},
   "outputs": [
    {
     "data": {
      "text/plain": [
       "False"
      ]
     },
     "execution_count": 1,
     "metadata": {},
     "output_type": "execute_result"
    }
   ],
   "source": [
    "True if 1==2 else False"
   ]
  },
  {
   "cell_type": "code",
   "execution_count": null,
   "metadata": {},
   "outputs": [],
   "source": [
    "file = \"movementsdict.txt\"\n",
    "with open(file, \"r\") as file:\n",
    "    d = json.load(file)\n",
    "\n",
    "for k, v in d.items():\n",
    "    print(k, v)"
   ]
  },
  {
   "cell_type": "code",
   "execution_count": 1,
   "metadata": {},
   "outputs": [
    {
     "name": "stdout",
     "output_type": "stream",
     "text": [
      "Absorb\n",
      "Acid\n",
      "Acid Armor\n",
      "Agility\n",
      "Amnesia\n",
      "Aurora Beam\n",
      "Barrage\n",
      "Barrier\n",
      "Bide\n",
      "Bind\n",
      "Blizzard\n",
      "Body Slam\n",
      "Bone Club\n",
      "Bonemerang\n",
      "Bubble\n",
      "Bubble Beam\n",
      "Clamp\n",
      "Comet Punch\n",
      "Confuse Ray\n",
      "Confusion\n",
      "Constrict\n",
      "Conversion\n",
      "Counter\n",
      "Crabhammer\n",
      "Cut\n",
      "Defense Curl\n",
      "Dig\n",
      "Disable\n",
      "Dizzy Punch\n",
      "Double Kick\n",
      "Double Slap\n",
      "Double Team\n",
      "Double-Edge\n",
      "Dragon Rage\n",
      "Dream Eater\n",
      "Drill Peck\n",
      "Earthquake\n",
      "Egg Bomb\n",
      "Ember\n",
      "Explosion\n",
      "Fire Blast\n",
      "Fire Punch\n",
      "Fire Spin\n",
      "Fissure\n",
      "Flamethrower\n",
      "Flash\n",
      "Fly\n",
      "Focus Energy\n",
      "Fury Attack\n",
      "Fury Swipes\n",
      "Glare\n",
      "Growl\n",
      "Growth\n",
      "Guillotine\n",
      "Gust\n",
      "Harden\n",
      "Haze\n",
      "Headbutt\n",
      "High Jump Kick\n",
      "Horn Attack\n",
      "Horn Drill\n",
      "Hydro Pump\n",
      "Hyper Beam\n",
      "Hyper Fang\n",
      "Hypnosis\n",
      "Ice Beam\n",
      "Ice Punch\n",
      "Jump Kick\n",
      "Karate Chop\n",
      "Kinesis\n",
      "Leech Life\n",
      "Leech Seed\n",
      "Leer\n",
      "Lick\n",
      "Light Screen\n",
      "Lovely Kiss\n",
      "Low Kick\n",
      "Meditate\n",
      "Mega Drain\n",
      "Mega Kick\n",
      "Mega Punch\n",
      "Metronome\n",
      "Mimic\n",
      "Minimize\n",
      "Mirror Move\n",
      "Mist\n",
      "Night Shade\n",
      "Pay Day\n",
      "Peck\n",
      "Petal Dance\n",
      "Pin Missile\n",
      "Poison Gas\n",
      "Poison Powder\n",
      "Poison Sting\n",
      "Pound\n",
      "Psybeam\n",
      "Psychic\n",
      "Psywave\n",
      "Quick Attack\n",
      "Rage\n",
      "Razor Leaf\n",
      "Razor Wind\n",
      "Recover\n",
      "Reflect\n",
      "Rest\n",
      "Roar\n",
      "Rock Slide\n",
      "Rock Throw\n",
      "Rolling Kick\n",
      "Sand Attack\n",
      "Scratch\n",
      "Screech\n",
      "Seismic Toss\n",
      "Self-Destruct\n",
      "Sharpen\n",
      "Sing\n",
      "Skull Bash\n",
      "Sky Attack\n",
      "Slam\n",
      "Slash\n",
      "Sleep Powder\n",
      "Sludge\n",
      "Smog\n",
      "Smokescreen\n",
      "Soft-Boiled\n",
      "Solar Beam\n",
      "Sonic Boom\n",
      "Spike Cannon\n",
      "Splash\n",
      "Spore\n",
      "Stomp\n",
      "Strength\n",
      "String Shot\n",
      "Struggle\n",
      "Stun Spore\n",
      "Submission\n",
      "Substitute\n",
      "Super Fang\n",
      "Supersonic\n",
      "Surf\n",
      "Swift\n",
      "Swords Dance\n",
      "Tackle\n",
      "Tail Whip\n",
      "Take Down\n",
      "Teleport\n",
      "Thrash\n",
      "Thunder\n",
      "Thunder Punch\n",
      "Thunder Shock\n",
      "Thunder Wave\n",
      "Thunderbolt\n",
      "Toxic\n",
      "Transform\n",
      "Tri Attack\n",
      "Twineedle\n",
      "Vine Whip\n",
      "Vise Grip\n",
      "Water Gun\n",
      "Waterfall\n",
      "Whirlwind\n",
      "Wing Attack\n",
      "Withdraw\n",
      "Wrap\n"
     ]
    }
   ],
   "source": [
    "import datasets.constants as c\n",
    "for k, v in c.MOVEMENTS_D.items():\n",
    "    print(k)"
   ]
  },
  {
   "cell_type": "code",
   "execution_count": null,
   "metadata": {},
   "outputs": [],
   "source": [
    "from datasets.pokemon import Pokemon\n",
    "from datasets.movement import Movement\n",
    "from datasets.pokemontype import PokemonType\n",
    "\n",
    "quickattack = Movement(\"Quickattack\", 10, 10, 100, PokemonType.NORMAL, None, \"x\")\n",
    "Pika = Pokemon(\"Pika\", 50, 100, 20, 20, 20, 20, 20, PokemonType.ELECTRIC, None, [quickattack, None, None, None])"
   ]
  },
  {
   "cell_type": "code",
   "execution_count": 13,
   "metadata": {},
   "outputs": [
    {
     "data": {
      "text/plain": [
       "3"
      ]
     },
     "execution_count": 13,
     "metadata": {},
     "output_type": "execute_result"
    }
   ],
   "source": [
    "x = [1,2,3]\n",
    "len(x)"
   ]
  }
 ],
 "metadata": {
  "kernelspec": {
   "display_name": "Python 3",
   "language": "python",
   "name": "python3"
  },
  "language_info": {
   "codemirror_mode": {
    "name": "ipython",
    "version": 3
   },
   "file_extension": ".py",
   "mimetype": "text/x-python",
   "name": "python",
   "nbconvert_exporter": "python",
   "pygments_lexer": "ipython3",
   "version": "3.12.0"
  }
 },
 "nbformat": 4,
 "nbformat_minor": 2
}
