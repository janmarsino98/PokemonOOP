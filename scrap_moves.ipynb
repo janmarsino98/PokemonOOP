{
 "cells": [
  {
   "cell_type": "code",
   "execution_count": 39,
   "metadata": {},
   "outputs": [
    {
     "name": "stdout",
     "output_type": "stream",
     "text": [
      "{'Absorb': {'type': 'Grass', 'category': 'special', 'power': 20, 'accuracy': 100, 'pp': 25, 'text': 'User recovers half the HP inflicted on opponent.'}, 'Acid': {'type': 'Poison', 'category': 'special', 'power': 40, 'accuracy': 100, 'pp': 30, 'text': \"May lower opponent's Special Defense.\"}, 'Acid Armor': {'type': 'Poison', 'category': 'status', 'power': 0, 'accuracy': 100, 'pp': 20, 'text': \"Sharply raises user's Defense.\"}, 'Agility': {'type': 'Psychic', 'category': 'status', 'power': 0, 'accuracy': 100, 'pp': 30, 'text': \"Sharply raises user's Speed.\"}, 'Amnesia': {'type': 'Psychic', 'category': 'status', 'power': 0, 'accuracy': 100, 'pp': 20, 'text': \"Sharply raises user's Special Defense.\"}, 'Aurora Beam': {'type': 'Ice', 'category': 'special', 'power': 65, 'accuracy': 100, 'pp': 20, 'text': \"May lower opponent's Attack.\"}, 'Barrage': {'type': 'Normal', 'category': 'physical', 'power': 15, 'accuracy': 85, 'pp': 20, 'text': 'Hits 2-5 times in one turn.'}, 'Barrier': {'type': 'Psychic', 'category': 'status', 'power': 0, 'accuracy': 100, 'pp': 20, 'text': \"Sharply raises user's Defense.\"}, 'Bide': {'type': 'Normal', 'category': 'physical', 'power': 0, 'accuracy': 100, 'pp': 10, 'text': 'User takes damage for two turns then strikes back double.'}, 'Bind': {'type': 'Normal', 'category': 'physical', 'power': 15, 'accuracy': 85, 'pp': 20, 'text': 'Traps opponent, damaging them for 4-5 turns.'}, 'Blizzard': {'type': 'Ice', 'category': 'special', 'power': 110, 'accuracy': 70, 'pp': 5, 'text': 'May freeze opponent.'}, 'Body Slam': {'type': 'Normal', 'category': 'physical', 'power': 85, 'accuracy': 100, 'pp': 15, 'text': 'May paralyze opponent.'}, 'Bone Club': {'type': 'Ground', 'category': 'physical', 'power': 65, 'accuracy': 85, 'pp': 20, 'text': 'May cause flinching.'}, 'Bonemerang': {'type': 'Ground', 'category': 'physical', 'power': 50, 'accuracy': 90, 'pp': 10, 'text': 'Hits twice in one turn.'}, 'Bubble': {'type': 'Water', 'category': 'special', 'power': 40, 'accuracy': 100, 'pp': 30, 'text': \"May lower opponent's Speed.\"}, 'Bubble Beam': {'type': 'Water', 'category': 'special', 'power': 65, 'accuracy': 100, 'pp': 20, 'text': \"May lower opponent's Speed.\"}, 'Clamp': {'type': 'Water', 'category': 'physical', 'power': 35, 'accuracy': 85, 'pp': 15, 'text': 'Traps opponent, damaging them for 4-5 turns.'}, 'Comet Punch': {'type': 'Normal', 'category': 'physical', 'power': 18, 'accuracy': 85, 'pp': 15, 'text': 'Hits 2-5 times in one turn.'}, 'Confuse Ray': {'type': 'Ghost', 'category': 'status', 'power': 0, 'accuracy': 100, 'pp': 10, 'text': 'Confuses opponent.'}, 'Confusion': {'type': 'Psychic', 'category': 'special', 'power': 50, 'accuracy': 100, 'pp': 25, 'text': 'May confuse opponent.'}, 'Constrict': {'type': 'Normal', 'category': 'physical', 'power': 10, 'accuracy': 100, 'pp': 35, 'text': \"May lower opponent's Speed by one stage.\"}, 'Conversion': {'type': 'Normal', 'category': 'status', 'power': 0, 'accuracy': 100, 'pp': 30, 'text': \"Changes user's type to that of its first move.\"}, 'Counter': {'type': 'Fighting', 'category': 'physical', 'power': 0, 'accuracy': 100, 'pp': 20, 'text': 'When hit by a Physical Attack, user strikes back with 2x power.'}, 'Crabhammer': {'type': 'Water', 'category': 'physical', 'power': 100, 'accuracy': 90, 'pp': 10, 'text': 'High critical hit ratio.'}, 'Cut': {'type': 'Normal', 'category': 'physical', 'power': 50, 'accuracy': 95, 'pp': 30, 'text': ''}, 'Defense Curl': {'type': 'Normal', 'category': 'status', 'power': 0, 'accuracy': 100, 'pp': 40, 'text': \"Raises user's Defense.\"}, 'Dig': {'type': 'Ground', 'category': 'physical', 'power': 80, 'accuracy': 100, 'pp': 10, 'text': 'Digs underground on first turn, attacks on second. Can also escape from caves.'}, 'Disable': {'type': 'Normal', 'category': 'status', 'power': 0, 'accuracy': 100, 'pp': 20, 'text': \"Opponent can't use its last attack for a few turns.\"}, 'Dizzy Punch': {'type': 'Normal', 'category': 'physical', 'power': 70, 'accuracy': 100, 'pp': 10, 'text': 'May confuse opponent.'}, 'Double Kick': {'type': 'Fighting', 'category': 'physical', 'power': 30, 'accuracy': 100, 'pp': 30, 'text': 'Hits twice in one turn.'}, 'Double Slap': {'type': 'Normal', 'category': 'physical', 'power': 15, 'accuracy': 85, 'pp': 10, 'text': 'Hits 2-5 times in one turn.'}, 'Double Team': {'type': 'Normal', 'category': 'status', 'power': 0, 'accuracy': 100, 'pp': 15, 'text': \"Raises user's Evasiveness.\"}, 'Double-Edge': {'type': 'Normal', 'category': 'physical', 'power': 120, 'accuracy': 100, 'pp': 15, 'text': 'User receives recoil damage.'}, 'Dragon Rage': {'type': 'Dragon', 'category': 'special', 'power': 0, 'accuracy': 100, 'pp': 10, 'text': 'Always inflicts 40 HP.'}, 'Dream Eater': {'type': 'Psychic', 'category': 'special', 'power': 100, 'accuracy': 100, 'pp': 15, 'text': 'User recovers half the HP inflicted on a sleeping opponent.'}, 'Drill Peck': {'type': 'Flying', 'category': 'physical', 'power': 80, 'accuracy': 100, 'pp': 20, 'text': ''}, 'Earthquake': {'type': 'Ground', 'category': 'physical', 'power': 100, 'accuracy': 100, 'pp': 10, 'text': 'Power is doubled if opponent is underground from using Dig.'}, 'Egg Bomb': {'type': 'Normal', 'category': 'physical', 'power': 100, 'accuracy': 75, 'pp': 10, 'text': ''}, 'Ember': {'type': 'Fire', 'category': 'special', 'power': 40, 'accuracy': 100, 'pp': 25, 'text': 'May burn opponent.'}, 'Explosion': {'type': 'Normal', 'category': 'physical', 'power': 250, 'accuracy': 100, 'pp': 5, 'text': 'User faints.'}, 'Fire Blast': {'type': 'Fire', 'category': 'special', 'power': 110, 'accuracy': 85, 'pp': 5, 'text': 'May burn opponent.'}, 'Fire Punch': {'type': 'Fire', 'category': 'physical', 'power': 75, 'accuracy': 100, 'pp': 15, 'text': 'May burn opponent.'}, 'Fire Spin': {'type': 'Fire', 'category': 'special', 'power': 35, 'accuracy': 85, 'pp': 15, 'text': 'Traps opponent, damaging them for 4-5 turns.'}, 'Fissure': {'type': 'Ground', 'category': 'physical', 'power': 0, 'accuracy': 30, 'pp': 5, 'text': 'One-Hit-KO, if it hits.'}, 'Flamethrower': {'type': 'Fire', 'category': 'special', 'power': 90, 'accuracy': 100, 'pp': 15, 'text': 'May burn opponent.'}, 'Flash': {'type': 'Normal', 'category': 'status', 'power': 0, 'accuracy': 100, 'pp': 20, 'text': \"Lowers opponent's Accuracy.\"}, 'Fly': {'type': 'Flying', 'category': 'physical', 'power': 90, 'accuracy': 95, 'pp': 15, 'text': 'Flies up on first turn, attacks on second turn.'}, 'Focus Energy': {'type': 'Normal', 'category': 'status', 'power': 0, 'accuracy': 100, 'pp': 30, 'text': 'Increases critical hit ratio.'}, 'Fury Attack': {'type': 'Normal', 'category': 'physical', 'power': 15, 'accuracy': 85, 'pp': 20, 'text': 'Hits 2-5 times in one turn.'}, 'Fury Swipes': {'type': 'Normal', 'category': 'physical', 'power': 18, 'accuracy': 80, 'pp': 15, 'text': 'Hits 2-5 times in one turn.'}, 'Glare': {'type': 'Normal', 'category': 'status', 'power': 0, 'accuracy': 100, 'pp': 30, 'text': 'Paralyzes opponent.'}, 'Growl': {'type': 'Normal', 'category': 'status', 'power': 0, 'accuracy': 100, 'pp': 40, 'text': \"Lowers opponent's Attack.\"}, 'Growth': {'type': 'Normal', 'category': 'status', 'power': 0, 'accuracy': 100, 'pp': 20, 'text': \"Raises user's Attack and Special Attack.\"}, 'Guillotine': {'type': 'Normal', 'category': 'physical', 'power': 0, 'accuracy': 30, 'pp': 5, 'text': 'One-Hit-KO, if it hits.'}, 'Gust': {'type': 'Flying', 'category': 'special', 'power': 40, 'accuracy': 100, 'pp': 35, 'text': 'Hits Pokémon using Fly/Bounce/Sky Drop with double power.'}, 'Harden': {'type': 'Normal', 'category': 'status', 'power': 0, 'accuracy': 100, 'pp': 30, 'text': \"Raises user's Defense.\"}, 'Haze': {'type': 'Ice', 'category': 'status', 'power': 0, 'accuracy': 100, 'pp': 30, 'text': 'Resets all stat changes.'}, 'Headbutt': {'type': 'Normal', 'category': 'physical', 'power': 70, 'accuracy': 100, 'pp': 15, 'text': 'May cause flinching.'}, 'High Jump Kick': {'type': 'Fighting', 'category': 'physical', 'power': 130, 'accuracy': 90, 'pp': 10, 'text': 'If it misses, the user loses half their HP.'}, 'Horn Attack': {'type': 'Normal', 'category': 'physical', 'power': 65, 'accuracy': 100, 'pp': 25, 'text': ''}, 'Horn Drill': {'type': 'Normal', 'category': 'physical', 'power': 0, 'accuracy': 30, 'pp': 5, 'text': 'One-Hit-KO, if it hits.'}, 'Hydro Pump': {'type': 'Water', 'category': 'special', 'power': 110, 'accuracy': 80, 'pp': 5, 'text': ''}, 'Hyper Beam': {'type': 'Normal', 'category': 'special', 'power': 150, 'accuracy': 90, 'pp': 5, 'text': 'User must recharge next turn.'}, 'Hyper Fang': {'type': 'Normal', 'category': 'physical', 'power': 80, 'accuracy': 90, 'pp': 15, 'text': 'May cause flinching.'}, 'Hypnosis': {'type': 'Psychic', 'category': 'status', 'power': 0, 'accuracy': 60, 'pp': 20, 'text': 'Puts opponent to sleep.'}, 'Ice Beam': {'type': 'Ice', 'category': 'special', 'power': 90, 'accuracy': 100, 'pp': 10, 'text': 'May freeze opponent.'}, 'Ice Punch': {'type': 'Ice', 'category': 'physical', 'power': 75, 'accuracy': 100, 'pp': 15, 'text': 'May freeze opponent.'}, 'Jump Kick': {'type': 'Fighting', 'category': 'physical', 'power': 100, 'accuracy': 95, 'pp': 10, 'text': 'If it misses, the user loses half their HP.'}, 'Karate Chop': {'type': 'Fighting', 'category': 'physical', 'power': 50, 'accuracy': 100, 'pp': 25, 'text': 'High critical hit ratio.'}, 'Kinesis': {'type': 'Psychic', 'category': 'status', 'power': 0, 'accuracy': 80, 'pp': 15, 'text': \"Lowers opponent's Accuracy.\"}, 'Leech Life': {'type': 'Bug', 'category': 'physical', 'power': 80, 'accuracy': 100, 'pp': 10, 'text': 'User recovers half the HP inflicted on opponent.'}, 'Leech Seed': {'type': 'Grass', 'category': 'status', 'power': 0, 'accuracy': 90, 'pp': 10, 'text': 'Drains HP from opponent each turn.'}, 'Leer': {'type': 'Normal', 'category': 'status', 'power': 0, 'accuracy': 100, 'pp': 30, 'text': \"Lowers opponent's Defense.\"}, 'Lick': {'type': 'Ghost', 'category': 'physical', 'power': 30, 'accuracy': 100, 'pp': 30, 'text': 'May paralyze opponent.'}, 'Light Screen': {'type': 'Psychic', 'category': 'status', 'power': 0, 'accuracy': 100, 'pp': 30, 'text': 'Halves damage from Special attacks for 5 turns.'}, 'Lovely Kiss': {'type': 'Normal', 'category': 'status', 'power': 0, 'accuracy': 75, 'pp': 10, 'text': 'Puts opponent to sleep.'}, 'Low Kick': {'type': 'Fighting', 'category': 'physical', 'power': 0, 'accuracy': 100, 'pp': 20, 'text': 'The heavier the opponent, the stronger the attack.'}, 'Meditate': {'type': 'Psychic', 'category': 'status', 'power': 0, 'accuracy': 100, 'pp': 40, 'text': \"Raises user's Attack.\"}, 'Mega Drain': {'type': 'Grass', 'category': 'special', 'power': 40, 'accuracy': 100, 'pp': 15, 'text': 'User recovers half the HP inflicted on opponent.'}, 'Mega Kick': {'type': 'Normal', 'category': 'physical', 'power': 120, 'accuracy': 75, 'pp': 5, 'text': ''}, 'Mega Punch': {'type': 'Normal', 'category': 'physical', 'power': 80, 'accuracy': 85, 'pp': 20, 'text': ''}, 'Metronome': {'type': 'Normal', 'category': 'status', 'power': 0, 'accuracy': 100, 'pp': 10, 'text': 'User performs almost any move in the game at random.'}, 'Mimic': {'type': 'Normal', 'category': 'status', 'power': 0, 'accuracy': 100, 'pp': 10, 'text': \"Copies the opponent's last move.\"}, 'Minimize': {'type': 'Normal', 'category': 'status', 'power': 0, 'accuracy': 100, 'pp': 10, 'text': \"Sharply raises user's Evasiveness.\"}, 'Mirror Move': {'type': 'Flying', 'category': 'status', 'power': 0, 'accuracy': 100, 'pp': 20, 'text': \"User performs the opponent's last move.\"}, 'Mist': {'type': 'Ice', 'category': 'status', 'power': 0, 'accuracy': 100, 'pp': 30, 'text': \"User's stats cannot be changed for a period of time.\"}, 'Night Shade': {'type': 'Ghost', 'category': 'special', 'power': 0, 'accuracy': 100, 'pp': 15, 'text': \"Inflicts damage equal to user's level.\"}, 'Pay Day': {'type': 'Normal', 'category': 'physical', 'power': 40, 'accuracy': 100, 'pp': 20, 'text': 'Money is earned after the battle.'}, 'Peck': {'type': 'Flying', 'category': 'physical', 'power': 35, 'accuracy': 100, 'pp': 35, 'text': ''}, 'Petal Dance': {'type': 'Grass', 'category': 'special', 'power': 120, 'accuracy': 100, 'pp': 10, 'text': 'User attacks for 2-3 turns but then becomes confused.'}, 'Pin Missile': {'type': 'Bug', 'category': 'physical', 'power': 25, 'accuracy': 95, 'pp': 20, 'text': 'Hits 2-5 times in one turn.'}, 'Poison Gas': {'type': 'Poison', 'category': 'status', 'power': 0, 'accuracy': 90, 'pp': 40, 'text': 'Poisons opponent.'}, 'Poison Powder': {'type': 'Poison', 'category': 'status', 'power': 0, 'accuracy': 75, 'pp': 35, 'text': 'Poisons opponent.'}, 'Poison Sting': {'type': 'Poison', 'category': 'physical', 'power': 15, 'accuracy': 100, 'pp': 35, 'text': 'May poison the opponent.'}, 'Pound': {'type': 'Normal', 'category': 'physical', 'power': 40, 'accuracy': 100, 'pp': 35, 'text': ''}, 'Psybeam': {'type': 'Psychic', 'category': 'special', 'power': 65, 'accuracy': 100, 'pp': 20, 'text': 'May confuse opponent.'}, 'Psychic': {'type': 'Psychic', 'category': 'special', 'power': 90, 'accuracy': 100, 'pp': 10, 'text': \"May lower opponent's Special Defense.\"}, 'Psywave': {'type': 'Psychic', 'category': 'special', 'power': 0, 'accuracy': 100, 'pp': 15, 'text': \"Inflicts damage 50-150% of user's level.\"}, 'Quick Attack': {'type': 'Normal', 'category': 'physical', 'power': 40, 'accuracy': 100, 'pp': 30, 'text': 'User attacks first.'}, 'Rage': {'type': 'Normal', 'category': 'physical', 'power': 20, 'accuracy': 100, 'pp': 20, 'text': \"Raises user's Attack when hit.\"}, 'Razor Leaf': {'type': 'Grass', 'category': 'physical', 'power': 55, 'accuracy': 95, 'pp': 25, 'text': 'High critical hit ratio.'}, 'Razor Wind': {'type': 'Normal', 'category': 'special', 'power': 80, 'accuracy': 100, 'pp': 10, 'text': 'Charges on first turn, attacks on second. High critical hit ratio.'}, 'Recover': {'type': 'Normal', 'category': 'status', 'power': 0, 'accuracy': 100, 'pp': 5, 'text': 'User recovers half its max HP.'}, 'Reflect': {'type': 'Psychic', 'category': 'status', 'power': 0, 'accuracy': 100, 'pp': 20, 'text': 'Halves damage from Physical attacks for 5 turns.'}, 'Rest': {'type': 'Psychic', 'category': 'status', 'power': 0, 'accuracy': 100, 'pp': 5, 'text': 'User sleeps for 2 turns, but user is fully healed.'}, 'Roar': {'type': 'Normal', 'category': 'status', 'power': 0, 'accuracy': 100, 'pp': 20, 'text': 'In battles, the opponent switches. In the wild, the Pokémon runs.'}, 'Rock Slide': {'type': 'Rock', 'category': 'physical', 'power': 75, 'accuracy': 90, 'pp': 10, 'text': 'May cause flinching.'}, 'Rock Throw': {'type': 'Rock', 'category': 'physical', 'power': 50, 'accuracy': 90, 'pp': 15, 'text': ''}, 'Rolling Kick': {'type': 'Fighting', 'category': 'physical', 'power': 60, 'accuracy': 85, 'pp': 15, 'text': 'May cause flinching.'}, 'Sand Attack': {'type': 'Ground', 'category': 'status', 'power': 0, 'accuracy': 100, 'pp': 15, 'text': \"Lowers opponent's Accuracy.\"}, 'Scratch': {'type': 'Normal', 'category': 'physical', 'power': 40, 'accuracy': 100, 'pp': 35, 'text': ''}, 'Screech': {'type': 'Normal', 'category': 'status', 'power': 0, 'accuracy': 85, 'pp': 40, 'text': \"Sharply lowers opponent's Defense.\"}, 'Seismic Toss': {'type': 'Fighting', 'category': 'physical', 'power': 0, 'accuracy': 100, 'pp': 20, 'text': \"Inflicts damage equal to user's level.\"}, 'Self-Destruct': {'type': 'Normal', 'category': 'physical', 'power': 200, 'accuracy': 100, 'pp': 5, 'text': 'User faints.'}, 'Sharpen': {'type': 'Normal', 'category': 'status', 'power': 0, 'accuracy': 100, 'pp': 30, 'text': \"Raises user's Attack.\"}, 'Sing': {'type': 'Normal', 'category': 'status', 'power': 0, 'accuracy': 55, 'pp': 15, 'text': 'Puts opponent to sleep.'}, 'Skull Bash': {'type': 'Normal', 'category': 'physical', 'power': 130, 'accuracy': 100, 'pp': 10, 'text': 'Raises Defense on first turn, attacks on second.'}, 'Sky Attack': {'type': 'Flying', 'category': 'physical', 'power': 140, 'accuracy': 90, 'pp': 5, 'text': 'Charges on first turn, attacks on second. May cause flinching. High critical hit ratio.'}, 'Slam': {'type': 'Normal', 'category': 'physical', 'power': 80, 'accuracy': 75, 'pp': 20, 'text': ''}, 'Slash': {'type': 'Normal', 'category': 'physical', 'power': 70, 'accuracy': 100, 'pp': 20, 'text': 'High critical hit ratio.'}, 'Sleep Powder': {'type': 'Grass', 'category': 'status', 'power': 0, 'accuracy': 75, 'pp': 15, 'text': 'Puts opponent to sleep.'}, 'Sludge': {'type': 'Poison', 'category': 'special', 'power': 65, 'accuracy': 100, 'pp': 20, 'text': 'May poison opponent.'}, 'Smog': {'type': 'Poison', 'category': 'special', 'power': 30, 'accuracy': 70, 'pp': 20, 'text': 'May poison opponent.'}, 'Smokescreen': {'type': 'Normal', 'category': 'status', 'power': 0, 'accuracy': 100, 'pp': 20, 'text': \"Lowers opponent's Accuracy.\"}, 'Soft-Boiled': {'type': 'Normal', 'category': 'status', 'power': 0, 'accuracy': 100, 'pp': 5, 'text': 'User recovers half its max HP.'}, 'Solar Beam': {'type': 'Grass', 'category': 'special', 'power': 120, 'accuracy': 100, 'pp': 10, 'text': 'Charges on first turn, attacks on second.'}, 'Sonic Boom': {'type': 'Normal', 'category': 'special', 'power': 0, 'accuracy': 90, 'pp': 20, 'text': 'Always inflicts 20 HP.'}, 'Spike Cannon': {'type': 'Normal', 'category': 'physical', 'power': 20, 'accuracy': 100, 'pp': 15, 'text': 'Hits 2-5 times in one turn.'}, 'Splash': {'type': 'Normal', 'category': 'status', 'power': 0, 'accuracy': 100, 'pp': 40, 'text': \"Doesn't do ANYTHING.\"}, 'Spore': {'type': 'Grass', 'category': 'status', 'power': 0, 'accuracy': 100, 'pp': 15, 'text': 'Puts opponent to sleep.'}, 'Stomp': {'type': 'Normal', 'category': 'physical', 'power': 65, 'accuracy': 100, 'pp': 20, 'text': 'May cause flinching.'}, 'Strength': {'type': 'Normal', 'category': 'physical', 'power': 80, 'accuracy': 100, 'pp': 15, 'text': ''}, 'String Shot': {'type': 'Bug', 'category': 'status', 'power': 0, 'accuracy': 95, 'pp': 40, 'text': \"Sharply lowers opponent's Speed.\"}, 'Struggle': {'type': 'Normal', 'category': 'physical', 'power': 50, 'accuracy': 100, 'pp': 100, 'text': 'Only usable when all PP are gone. Hurts the user.'}, 'Stun Spore': {'type': 'Grass', 'category': 'status', 'power': 0, 'accuracy': 75, 'pp': 30, 'text': 'Paralyzes opponent.'}, 'Submission': {'type': 'Fighting', 'category': 'physical', 'power': 80, 'accuracy': 80, 'pp': 20, 'text': 'User receives recoil damage.'}, 'Substitute': {'type': 'Normal', 'category': 'status', 'power': 0, 'accuracy': 100, 'pp': 10, 'text': 'Uses HP to creates a decoy that takes hits.'}, 'Super Fang': {'type': 'Normal', 'category': 'physical', 'power': 0, 'accuracy': 90, 'pp': 10, 'text': \"Always takes off half of the opponent's HP.\"}, 'Supersonic': {'type': 'Normal', 'category': 'status', 'power': 0, 'accuracy': 55, 'pp': 20, 'text': 'Confuses opponent.'}, 'Surf': {'type': 'Water', 'category': 'special', 'power': 90, 'accuracy': 100, 'pp': 15, 'text': 'Hits all adjacent Pokémon.'}, 'Swift': {'type': 'Normal', 'category': 'special', 'power': 60, 'accuracy': 100, 'pp': 20, 'text': 'Ignores Accuracy and Evasiveness.'}, 'Swords Dance': {'type': 'Normal', 'category': 'status', 'power': 0, 'accuracy': 100, 'pp': 20, 'text': \"Sharply raises user's Attack.\"}, 'Tackle': {'type': 'Normal', 'category': 'physical', 'power': 40, 'accuracy': 100, 'pp': 35, 'text': ''}, 'Tail Whip': {'type': 'Normal', 'category': 'status', 'power': 0, 'accuracy': 100, 'pp': 30, 'text': \"Lowers opponent's Defense.\"}, 'Take Down': {'type': 'Normal', 'category': 'physical', 'power': 90, 'accuracy': 85, 'pp': 20, 'text': 'User receives recoil damage.'}, 'Teleport': {'type': 'Psychic', 'category': 'status', 'power': 0, 'accuracy': 100, 'pp': 20, 'text': 'Allows user to flee wild battles; also warps player to last PokéCenter.'}, 'Thrash': {'type': 'Normal', 'category': 'physical', 'power': 120, 'accuracy': 100, 'pp': 10, 'text': 'User attacks for 2-3 turns but then becomes confused.'}, 'Thunder': {'type': 'Electric', 'category': 'special', 'power': 110, 'accuracy': 70, 'pp': 10, 'text': 'May paralyze opponent.'}, 'Thunder Punch': {'type': 'Electric', 'category': 'physical', 'power': 75, 'accuracy': 100, 'pp': 15, 'text': 'May paralyze opponent.'}, 'Thunder Shock': {'type': 'Electric', 'category': 'special', 'power': 40, 'accuracy': 100, 'pp': 30, 'text': 'May paralyze opponent.'}, 'Thunder Wave': {'type': 'Electric', 'category': 'status', 'power': 0, 'accuracy': 90, 'pp': 20, 'text': 'Paralyzes opponent.'}, 'Thunderbolt': {'type': 'Electric', 'category': 'special', 'power': 90, 'accuracy': 100, 'pp': 15, 'text': 'May paralyze opponent.'}, 'Toxic': {'type': 'Poison', 'category': 'status', 'power': 0, 'accuracy': 90, 'pp': 10, 'text': 'Badly poisons opponent.'}, 'Transform': {'type': 'Normal', 'category': 'status', 'power': 0, 'accuracy': 100, 'pp': 10, 'text': 'User takes on the form and attacks of the opponent.'}, 'Tri Attack': {'type': 'Normal', 'category': 'special', 'power': 80, 'accuracy': 100, 'pp': 10, 'text': 'May paralyze, burn or freeze opponent.'}, 'Twineedle': {'type': 'Bug', 'category': 'physical', 'power': 25, 'accuracy': 100, 'pp': 20, 'text': 'Hits twice in one turn. May poison opponent.'}, 'Vine Whip': {'type': 'Grass', 'category': 'physical', 'power': 45, 'accuracy': 100, 'pp': 25, 'text': ''}, 'Vise Grip': {'type': 'Normal', 'category': 'physical', 'power': 55, 'accuracy': 100, 'pp': 30, 'text': ''}, 'Water Gun': {'type': 'Water', 'category': 'special', 'power': 40, 'accuracy': 100, 'pp': 25, 'text': ''}, 'Waterfall': {'type': 'Water', 'category': 'physical', 'power': 80, 'accuracy': 100, 'pp': 15, 'text': 'May cause flinching.'}, 'Whirlwind': {'type': 'Normal', 'category': 'status', 'power': 0, 'accuracy': 100, 'pp': 20, 'text': 'In battles, the opponent switches. In the wild, the Pokémon runs.'}, 'Wing Attack': {'type': 'Flying', 'category': 'physical', 'power': 60, 'accuracy': 100, 'pp': 35, 'text': ''}, 'Withdraw': {'type': 'Water', 'category': 'status', 'power': 0, 'accuracy': 100, 'pp': 40, 'text': \"Raises user's Defense.\"}, 'Wrap': {'type': 'Normal', 'category': 'physical', 'power': 15, 'accuracy': 90, 'pp': 20, 'text': 'Traps opponent, damaging them for 4-5 turns.'}}\n"
     ]
    }
   ],
   "source": [
    "import requests\n",
    "from bs4 import BeautifulSoup\n",
    "\n",
    "link = \"https://pokemondb.net/move/generation/1\"\n",
    "r = requests.get(link)\n",
    "\n",
    "s = BeautifulSoup(r.text, \"html.parser\")\n",
    "table = s.find(\"table\", id=\"moves\")\n",
    "table_body = table.find(\"tbody\")\n",
    "rows = table_body.find_all(\"tr\")\n",
    "d = {}\n",
    "for row in rows:\n",
    "    cols = row.find_all(\"td\")\n",
    "    movement_name = cols[0].text\n",
    "    movement_type = cols[1].text\n",
    "    movement_cat = cols[2][\"data-sort-value\"]\n",
    "    movement_power = cols[3].text\n",
    "    try:\n",
    "        movement_power = int(movement_power)\n",
    "    except:\n",
    "        movement_power = 0\n",
    "    movement_acc = cols[4].text\n",
    "    \n",
    "    try:\n",
    "        movement_acc = int(movement_acc)\n",
    "        \n",
    "    except:\n",
    "        movement_acc = 100\n",
    "    \n",
    "    \n",
    "    movement_pp = cols[5].text\n",
    "    try:\n",
    "        movement_pp = int(movement_pp)\n",
    "        \n",
    "    except:\n",
    "        movement_pp = 100\n",
    "        \n",
    "    movement_text = cols[6].text\n",
    "\n",
    "    if movement_type != \"Dark\":\n",
    "        d[movement_name] = {\n",
    "            \"type\": movement_type, \n",
    "            \"category\": movement_cat,\n",
    "            \"power\": movement_power,\n",
    "            \"accuracy\": movement_acc,\n",
    "            \"pp\": movement_pp,\n",
    "            \"text\": movement_text\n",
    "        }\n",
    "        \n",
    "print(d)\n",
    "\n"
   ]
  },
  {
   "cell_type": "code",
   "execution_count": 40,
   "metadata": {},
   "outputs": [],
   "source": [
    "import json\n",
    "file = \"movementsdict.txt\"\n",
    "\n",
    "with open(file, \"w\") as file:\n",
    "    json.dump(d, file)"
   ]
  },
  {
   "cell_type": "code",
   "execution_count": null,
   "metadata": {},
   "outputs": [],
   "source": [
    "file = \"movementsdict.txt\"\n",
    "with open(file, \"r\") as file:\n",
    "    d = json.load(file)\n",
    "\n",
    "for k, v in d.items():\n",
    "    print(k, v)"
   ]
  },
  {
   "cell_type": "code",
   "execution_count": 51,
   "metadata": {},
   "outputs": [
    {
     "ename": "TypeError",
     "evalue": "list indices must be integers or slices, not str",
     "output_type": "error",
     "traceback": [
      "\u001b[1;31m---------------------------------------------------------------------------\u001b[0m",
      "\u001b[1;31mTypeError\u001b[0m                                 Traceback (most recent call last)",
      "Input \u001b[1;32mIn [51]\u001b[0m, in \u001b[0;36m<cell line: 2>\u001b[1;34m()\u001b[0m\n\u001b[0;32m      1\u001b[0m \u001b[38;5;28;01mimport\u001b[39;00m \u001b[38;5;21;01mdatasets\u001b[39;00m\u001b[38;5;21;01m.\u001b[39;00m\u001b[38;5;21;01mconstants\u001b[39;00m \u001b[38;5;28;01mas\u001b[39;00m \u001b[38;5;21;01mc\u001b[39;00m\n\u001b[1;32m----> 2\u001b[0m \u001b[38;5;28mprint\u001b[39m(\u001b[43mc\u001b[49m\u001b[38;5;241;43m.\u001b[39;49m\u001b[43mMOVEMENTS_D\u001b[49m\u001b[43m[\u001b[49m\u001b[38;5;124;43m\"\u001b[39;49m\u001b[38;5;124;43mAcid\u001b[39;49m\u001b[38;5;124;43m\"\u001b[39;49m\u001b[43m]\u001b[49m\u001b[43m[\u001b[49m\u001b[38;5;124;43m\"\u001b[39;49m\u001b[38;5;124;43mpower\u001b[39;49m\u001b[38;5;124;43m\"\u001b[39;49m\u001b[43m]\u001b[49m)\n",
      "\u001b[1;31mTypeError\u001b[0m: list indices must be integers or slices, not str"
     ]
    }
   ],
   "source": [
    "import datasets.constants as c\n",
    "print(c.MOVEMENTS_D[\"Acid\"][\"power\"])"
   ]
  }
 ],
 "metadata": {
  "kernelspec": {
   "display_name": "Python 3",
   "language": "python",
   "name": "python3"
  },
  "language_info": {
   "codemirror_mode": {
    "name": "ipython",
    "version": 3
   },
   "file_extension": ".py",
   "mimetype": "text/x-python",
   "name": "python",
   "nbconvert_exporter": "python",
   "pygments_lexer": "ipython3",
   "version": "3.10.5"
  }
 },
 "nbformat": 4,
 "nbformat_minor": 2
}
